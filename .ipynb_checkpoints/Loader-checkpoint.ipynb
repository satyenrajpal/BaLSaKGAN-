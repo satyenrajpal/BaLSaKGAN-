{
 "cells": [
  {
   "cell_type": "code",
   "execution_count": 13,
   "metadata": {},
   "outputs": [
    {
     "name": "stdout",
     "output_type": "stream",
     "text": [
      "loading annotations into memory...\n",
      "Done (t=0.29s)\n",
      "creating index...\n",
      "index created!\n"
     ]
    }
   ],
   "source": [
    "import torchvision.datasets as dset\n",
    "import torchvision.transforms as transforms\n",
    "cap = dset.CocoCaptions(root = '/media/satyen/d73f90fb-89d2-4cd2-b448-a96b558e5b72/satyen/GitHub_repos/cocoapi/val2014',\n",
    "                                    annFile = '/media/satyen/d73f90fb-89d2-4cd2-b448-a96b558e5b72/satyen/GitHub_repos/cocoapi/annotations/captions_val2014.json',\n",
    "                                    transform=transforms.ToTensor())\n"
   ]
  },
  {
   "cell_type": "code",
   "execution_count": 15,
   "metadata": {},
   "outputs": [
    {
     "name": "stdout",
     "output_type": "stream",
     "text": [
      "['a', 'group', 'of', 'men', 'sitting', 'around', 'a', 'table', 'eating', 'food']\n"
     ]
    }
   ],
   "source": [
    "import numpy as np\n",
    "img, captions = cap[3]\n",
    "sentence=captions[np.random.randint(0,len(captions)-1)].replace(\".\",\"\").lower().split()\n",
    "print(sentence)"
   ]
  },
  {
   "cell_type": "code",
   "execution_count": 16,
   "metadata": {},
   "outputs": [],
   "source": [
    "emb_model='/media/satyen/d73f90fb-89d2-4cd2-b448-a96b558e5b72/satyen/GitHub_repos/GloVe/glove.6B.50d.txt'\n",
    "with open(emb_model) as f:\n",
    "            glove = {}\n",
    "            for line in f.readlines():\n",
    "                values = line.split()\n",
    "                word = values[0]\n",
    "                vector = np.array(values[1:], dtype='float32')\n",
    "                glove[word] = vector"
   ]
  },
  {
   "cell_type": "code",
   "execution_count": 17,
   "metadata": {},
   "outputs": [],
   "source": [
    "embeddings=[glove.get(x) for x in sentence]"
   ]
  },
  {
   "cell_type": "code",
   "execution_count": 18,
   "metadata": {},
   "outputs": [
    {
     "name": "stdout",
     "output_type": "stream",
     "text": [
      "[ 0.21705   0.46515  -0.46757   0.10082   1.0135    0.74845  -0.53104\n",
      " -0.26256   0.16812   0.13182  -0.24909  -0.44185  -0.21739   0.51004\n",
      "  0.13448  -0.43141  -0.03123   0.20674  -0.78138  -0.20148  -0.097401\n",
      "  0.16088  -0.61836  -0.18504  -0.12461  -2.2526   -0.22321   0.5043\n",
      "  0.32257   0.15313   3.9636   -0.71365  -0.67012   0.28388   0.21738\n",
      "  0.14433   0.25926   0.23434   0.4274   -0.44451   0.13813   0.36973\n",
      " -0.64289   0.024142 -0.039315 -0.26037   0.12017  -0.043782  0.41013\n",
      "  0.1796  ]\n"
     ]
    }
   ],
   "source": [
    "print(embeddings[0])"
   ]
  },
  {
   "cell_type": "code",
   "execution_count": 26,
   "metadata": {},
   "outputs": [],
   "source": [
    "import random\n",
    "all_emb=[]\n",
    "for i in range(1000):\n",
    "    f=random.randint(0,20000)\n",
    "    _,captions=cap[f]\n",
    "    sentence=captions[np.random.randint(0,len(captions)-1)].replace(\".\",\"\").lower().split()\n",
    "    embeddings=np.array([glove.get(x) for x in sentence])\n",
    "    word_emb=np.array([None])\n",
    "    while(True):\n",
    "        embedding_ix = random.randint(0, len(embeddings)-1)\n",
    "        word_emb = embeddings[embedding_ix]\n",
    "        if(word_emb is not None):\n",
    "            break\n",
    "    all_emb.append(word_emb)"
   ]
  },
  {
   "cell_type": "code",
   "execution_count": 29,
   "metadata": {},
   "outputs": [
    {
     "name": "stdout",
     "output_type": "stream",
     "text": [
      "[ 0.88387   -0.14199    0.13566    0.098682   0.51218    0.49138\n",
      " -0.47155   -0.30742    0.01963    0.12686    0.073524   0.35836\n",
      " -0.60874   -0.18676    0.78935    0.54534    0.1106    -0.2923\n",
      "  0.059041  -0.69551   -0.18804    0.19455    0.32269   -0.49981\n",
      "  0.306     -2.3902    -0.60749    0.37107    0.078912  -0.23896\n",
      "  3.839     -0.20355   -0.35613   -0.69185   -0.17497   -0.35323\n",
      "  0.10598   -0.039303   0.015701   0.038279  -0.35283    0.44882\n",
      " -0.16534    0.31579    0.14963   -0.071277  -0.53506    0.52711\n",
      " -0.20148    0.0095952]\n"
     ]
    }
   ],
   "source": [
    "print(all_emb[1000])"
   ]
  },
  {
   "cell_type": "code",
   "execution_count": 25,
   "metadata": {},
   "outputs": [
    {
     "name": "stdout",
     "output_type": "stream",
     "text": [
      "True\n"
     ]
    }
   ],
   "source": []
  },
  {
   "cell_type": "code",
   "execution_count": null,
   "metadata": {},
   "outputs": [],
   "source": []
  }
 ],
 "metadata": {
  "kernelspec": {
   "display_name": "Python 3",
   "language": "python",
   "name": "python3"
  },
  "language_info": {
   "codemirror_mode": {
    "name": "ipython",
    "version": 3
   },
   "file_extension": ".py",
   "mimetype": "text/x-python",
   "name": "python",
   "nbconvert_exporter": "python",
   "pygments_lexer": "ipython3",
   "version": "3.5.2"
  }
 },
 "nbformat": 4,
 "nbformat_minor": 2
}
